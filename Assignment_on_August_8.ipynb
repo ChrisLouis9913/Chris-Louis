{
  "nbformat": 4,
  "nbformat_minor": 0,
  "metadata": {
    "colab": {
      "provenance": [],
      "authorship_tag": "ABX9TyPu04VFxPap687vJjKzTO1e",
      "include_colab_link": true
    },
    "kernelspec": {
      "name": "python3",
      "display_name": "Python 3"
    },
    "language_info": {
      "name": "python"
    }
  },
  "cells": [
    {
      "cell_type": "markdown",
      "metadata": {
        "id": "view-in-github",
        "colab_type": "text"
      },
      "source": [
        "<a href=\"https://colab.research.google.com/github/ChrisLouis9913/Chris-Louis/blob/main/Assignment_on_August_8.ipynb\" target=\"_parent\"><img src=\"https://colab.research.google.com/assets/colab-badge.svg\" alt=\"Open In Colab\"/></a>"
      ]
    },
    {
      "cell_type": "code",
      "execution_count": null,
      "metadata": {
        "id": "e6pnEhz8zn_x"
      },
      "outputs": [],
      "source": []
    },
    {
      "cell_type": "code",
      "source": [
        "import cv2\n",
        "import numpy as np\n",
        "import matplotlib.pyplot as plt\n",
        "from sklearn.cluster import KMeans\n",
        "\n",
        "# -------- 1. Capture image from webcam --------\n",
        "cap = cv2.VideoCapture(0)  # 0 = default webcam\n",
        "if not cap.isOpened():\n",
        "    raise IOError(\"Cannot access webcam\")\n",
        "\n",
        "print(\"Press SPACE to capture image...\")\n",
        "while True:\n",
        "    ret, frame = cap.read()\n",
        "    if not ret:\n",
        "        continue\n",
        "    cv2.imshow(\"Press SPACE to capture\", frame)\n",
        "    key = cv2.waitKey(1) & 0xFF\n",
        "    if key == 32:  # SPACE key\n",
        "        image = frame.copy()\n",
        "        break\n",
        "    elif key == 27:  # ESC to quit\n",
        "        cap.release()\n",
        "        cv2.destroyAllWindows()\n",
        "        exit()\n",
        "\n",
        "cap.release()\n",
        "cv2.destroyAllWindows()\n",
        "\n",
        "# Convert BGR (OpenCV default) to RGB for processing\n",
        "image_rgb = cv2.cvtColor(image, cv2.COLOR_BGR2RGB)\n",
        "original_shape = image_rgb.shape\n",
        "\n",
        "# -------- 2. Flatten the image into (n_pixels, 3) --------\n",
        "pixels = image_rgb.reshape((-1, 3))\n",
        "\n",
        "# -------- 3. Apply K-Means clustering (2 clusters) --------\n",
        "kmeans = KMeans(n_clusters=2, random_state=42, n_init=10)\n",
        "labels = kmeans.fit_predict(pixels)\n",
        "\n",
        "# -------- 4. Mask one of the clusters --------\n",
        "masked_pixels = pixels.copy()\n",
        "mask_color = np.array([255, 255, 255], dtype=np.uint8)  # white mask\n",
        "cluster_to_mask = 0  # you can choose 0 or 1\n",
        "\n",
        "masked_pixels[labels == cluster_to_mask] = mask_color\n",
        "\n",
        "# -------- 5. Reshape back to original image --------\n",
        "segmented_image = masked_pixels.reshape(original_shape)\n",
        "\n",
        "# -------- 6. Visualize --------\n",
        "plt.figure(figsize=(10,5))\n",
        "plt.subplot(1, 2, 1)\n",
        "plt.imshow(image_rgb)\n",
        "plt.title(\"Original Image\")\n",
        "plt.axis(\"off\")\n",
        "\n",
        "plt.subplot(1, 2, 2)\n",
        "plt.imshow(segmented_image)\n",
        "plt.title(f\"Segmented (Cluster {cluster_to_mask} masked)\")\n",
        "plt.axis(\"off\")\n",
        "\n",
        "plt.show()\n"
      ],
      "metadata": {
        "colab": {
          "base_uri": "https://localhost:8080/",
          "height": 211
        },
        "id": "1dXJVjCjx-1G",
        "outputId": "71d9a374-4ef3-4cab-90dd-a6fdbb2d580c"
      },
      "execution_count": 1,
      "outputs": [
        {
          "output_type": "error",
          "ename": "OSError",
          "evalue": "Cannot access webcam",
          "traceback": [
            "\u001b[0;31m---------------------------------------------------------------------------\u001b[0m",
            "\u001b[0;31mOSError\u001b[0m                                   Traceback (most recent call last)",
            "\u001b[0;32m/tmp/ipython-input-2063420191.py\u001b[0m in \u001b[0;36m<cell line: 0>\u001b[0;34m()\u001b[0m\n\u001b[1;32m      7\u001b[0m \u001b[0mcap\u001b[0m \u001b[0;34m=\u001b[0m \u001b[0mcv2\u001b[0m\u001b[0;34m.\u001b[0m\u001b[0mVideoCapture\u001b[0m\u001b[0;34m(\u001b[0m\u001b[0;36m0\u001b[0m\u001b[0;34m)\u001b[0m  \u001b[0;31m# 0 = default webcam\u001b[0m\u001b[0;34m\u001b[0m\u001b[0;34m\u001b[0m\u001b[0m\n\u001b[1;32m      8\u001b[0m \u001b[0;32mif\u001b[0m \u001b[0;32mnot\u001b[0m \u001b[0mcap\u001b[0m\u001b[0;34m.\u001b[0m\u001b[0misOpened\u001b[0m\u001b[0;34m(\u001b[0m\u001b[0;34m)\u001b[0m\u001b[0;34m:\u001b[0m\u001b[0;34m\u001b[0m\u001b[0;34m\u001b[0m\u001b[0m\n\u001b[0;32m----> 9\u001b[0;31m     \u001b[0;32mraise\u001b[0m \u001b[0mIOError\u001b[0m\u001b[0;34m(\u001b[0m\u001b[0;34m\"Cannot access webcam\"\u001b[0m\u001b[0;34m)\u001b[0m\u001b[0;34m\u001b[0m\u001b[0;34m\u001b[0m\u001b[0m\n\u001b[0m\u001b[1;32m     10\u001b[0m \u001b[0;34m\u001b[0m\u001b[0m\n\u001b[1;32m     11\u001b[0m \u001b[0mprint\u001b[0m\u001b[0;34m(\u001b[0m\u001b[0;34m\"Press SPACE to capture image...\"\u001b[0m\u001b[0;34m)\u001b[0m\u001b[0;34m\u001b[0m\u001b[0;34m\u001b[0m\u001b[0m\n",
            "\u001b[0;31mOSError\u001b[0m: Cannot access webcam"
          ]
        }
      ]
    }
  ]
}